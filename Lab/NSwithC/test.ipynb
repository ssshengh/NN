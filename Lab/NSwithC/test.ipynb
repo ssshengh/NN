{
 "cells": [
  {
   "cell_type": "markdown",
   "metadata": {
    "collapsed": true,
    "pycharm": {
     "name": "#%% md\n"
    }
   },
   "source": [
    "测试和查看NS3中跑出来的数据"
   ]
  },
  {
   "cell_type": "code",
   "execution_count": 1,
   "outputs": [],
   "source": [
    "import pandas as pd\n",
    "import matplotlib.pyplot as plt\n",
    "import torch\n",
    "import numpy as np"
   ],
   "metadata": {
    "collapsed": false,
    "pycharm": {
     "name": "#%%\n"
    }
   }
  },
  {
   "cell_type": "code",
   "execution_count": 6,
   "outputs": [
    {
     "data": {
      "text/plain": "     RxId  RxTime  attackType  TxId  TxTime   TxxPos  TxyPos  TxxVel  TxyVel\n0       0    2098           1     2    2094  100.000     100     -10       0\n1       0    2198           1     2    2194  100.000     100     -10       0\n2       0    2298           1     2    2294  100.000     100     -10       0\n3       0    2398           1     2    2394  100.000     100     -10       0\n4       0    2498           1     2    2494  100.000     100     -10       0\n..    ...     ...         ...   ...     ...      ...     ...     ...     ...\n276     0    9925           0     4    9921  253.815     103      15       0\n277     0    9978           0     3    9974  200.260      97     -10       0\n278     0    9998           1     2    9994  100.000     100     -10       0\n279     0   10021           0     1   10017  200.170     101      10       0\n280     0   10025           0     4   10021  255.315     103      15       0\n\n[281 rows x 9 columns]",
      "text/html": "<div>\n<style scoped>\n    .dataframe tbody tr th:only-of-type {\n        vertical-align: middle;\n    }\n\n    .dataframe tbody tr th {\n        vertical-align: top;\n    }\n\n    .dataframe thead th {\n        text-align: right;\n    }\n</style>\n<table border=\"1\" class=\"dataframe\">\n  <thead>\n    <tr style=\"text-align: right;\">\n      <th></th>\n      <th>RxId</th>\n      <th>RxTime</th>\n      <th>attackType</th>\n      <th>TxId</th>\n      <th>TxTime</th>\n      <th>TxxPos</th>\n      <th>TxyPos</th>\n      <th>TxxVel</th>\n      <th>TxyVel</th>\n    </tr>\n  </thead>\n  <tbody>\n    <tr>\n      <th>0</th>\n      <td>0</td>\n      <td>2098</td>\n      <td>1</td>\n      <td>2</td>\n      <td>2094</td>\n      <td>100.000</td>\n      <td>100</td>\n      <td>-10</td>\n      <td>0</td>\n    </tr>\n    <tr>\n      <th>1</th>\n      <td>0</td>\n      <td>2198</td>\n      <td>1</td>\n      <td>2</td>\n      <td>2194</td>\n      <td>100.000</td>\n      <td>100</td>\n      <td>-10</td>\n      <td>0</td>\n    </tr>\n    <tr>\n      <th>2</th>\n      <td>0</td>\n      <td>2298</td>\n      <td>1</td>\n      <td>2</td>\n      <td>2294</td>\n      <td>100.000</td>\n      <td>100</td>\n      <td>-10</td>\n      <td>0</td>\n    </tr>\n    <tr>\n      <th>3</th>\n      <td>0</td>\n      <td>2398</td>\n      <td>1</td>\n      <td>2</td>\n      <td>2394</td>\n      <td>100.000</td>\n      <td>100</td>\n      <td>-10</td>\n      <td>0</td>\n    </tr>\n    <tr>\n      <th>4</th>\n      <td>0</td>\n      <td>2498</td>\n      <td>1</td>\n      <td>2</td>\n      <td>2494</td>\n      <td>100.000</td>\n      <td>100</td>\n      <td>-10</td>\n      <td>0</td>\n    </tr>\n    <tr>\n      <th>...</th>\n      <td>...</td>\n      <td>...</td>\n      <td>...</td>\n      <td>...</td>\n      <td>...</td>\n      <td>...</td>\n      <td>...</td>\n      <td>...</td>\n      <td>...</td>\n    </tr>\n    <tr>\n      <th>276</th>\n      <td>0</td>\n      <td>9925</td>\n      <td>0</td>\n      <td>4</td>\n      <td>9921</td>\n      <td>253.815</td>\n      <td>103</td>\n      <td>15</td>\n      <td>0</td>\n    </tr>\n    <tr>\n      <th>277</th>\n      <td>0</td>\n      <td>9978</td>\n      <td>0</td>\n      <td>3</td>\n      <td>9974</td>\n      <td>200.260</td>\n      <td>97</td>\n      <td>-10</td>\n      <td>0</td>\n    </tr>\n    <tr>\n      <th>278</th>\n      <td>0</td>\n      <td>9998</td>\n      <td>1</td>\n      <td>2</td>\n      <td>9994</td>\n      <td>100.000</td>\n      <td>100</td>\n      <td>-10</td>\n      <td>0</td>\n    </tr>\n    <tr>\n      <th>279</th>\n      <td>0</td>\n      <td>10021</td>\n      <td>0</td>\n      <td>1</td>\n      <td>10017</td>\n      <td>200.170</td>\n      <td>101</td>\n      <td>10</td>\n      <td>0</td>\n    </tr>\n    <tr>\n      <th>280</th>\n      <td>0</td>\n      <td>10025</td>\n      <td>0</td>\n      <td>4</td>\n      <td>10021</td>\n      <td>255.315</td>\n      <td>103</td>\n      <td>15</td>\n      <td>0</td>\n    </tr>\n  </tbody>\n</table>\n<p>281 rows × 9 columns</p>\n</div>"
     },
     "execution_count": 6,
     "metadata": {},
     "output_type": "execute_result"
    }
   ],
   "source": [
    "data = pd.read_csv('/Users/shenheng/Code/NN/Lab/log_rx0_data_v2x.csv',\n",
    "                   sep=';')\n",
    "data_attacker = data[data['attackType']==1] # 攻击车\n",
    "data_normal = data[data['attackType']==0]   # 普通车\n",
    "data_attacker = data_attacker.iloc[:, data_attacker.columns.str.contains('Pos')]\n",
    "data_normal = data_normal.iloc[:, data_normal.columns.str.contains('Pos')]\n",
    "data"
   ],
   "metadata": {
    "collapsed": false,
    "pycharm": {
     "name": "#%%\n"
    }
   }
  },
  {
   "cell_type": "code",
   "execution_count": 4,
   "outputs": [
    {
     "data": {
      "text/plain": "<Figure size 432x288 with 1 Axes>",
      "image/png": "[encoded data removed]"
     },
     "metadata": {
      "needs_background": "light"
     },
     "output_type": "display_data"
    }
   ],
   "source": [
    "a_x = data_attacker['TxxPos'].values\n",
    "a_y = data_attacker['TxyPos'].values\n",
    "plt.plot(a_x, a_y, 'r*')\n",
    "plt.show()"
   ],
   "metadata": {
    "collapsed": false,
    "pycharm": {
     "name": "#%%\n"
    }
   }
  },
  {
   "cell_type": "code",
   "execution_count": 5,
   "outputs": [
    {
     "data": {
      "text/plain": "<Figure size 432x288 with 1 Axes>",
      "image/png": "[encoded data removed]"
     },
     "metadata": {
      "needs_background": "light"
     },
     "output_type": "display_data"
    }
   ],
   "source": [
    "n_x = data_normal['TxxPos'].values\n",
    "n_y = data_normal['TxyPos'].values\n",
    "plt.plot(n_x, n_y, 'r*')\n",
    "plt.show()"
   ],
   "metadata": {
    "collapsed": false,
    "pycharm": {
     "name": "#%%\n"
    }
   }
  },
  {
   "cell_type": "markdown",
   "source": [
    "目前的问题是：移动轨迹以及广播模型能够比较完美的给出了，但是移动轨迹过于简单。\n",
    "另外，如果需要复杂的移动轨迹以及多辆车的话，就需要巨大的人工标注的工作量\n",
    "所以接下来的主要问题就是，生成足够的移动模型，最好基于某个实际地图，这样的话通过位置与速度判断的算法才能够使用\n",
    "难点在于两个：一是选取哪个地图并对其进行坐标化\n",
    "            二是如何能够快速并大量的坐标化，我们可能需要数十万的数据才行\n",
    "\n",
    "现在考虑解决这两个问题的方法是：\n",
    "一个是通过sumo导入地图坐标，另一个就是针对某一个地图，选取部分数据量拟合曲线，然后获取大量瞬时坐标\n",
    "暂定选择后者，比较简单，但是局限在于必须是个函数，如果存在掉头什么的就很麻烦\n",
    "\n",
    "问题的关键是在：我们可以混入攻击车，但是需要接近现实的车辆移动数据才会合理，而没有传感器实现数据\n",
    "            目前查到的，比如奥迪的开源数据库中，全是视频帧，难以找到靠谱的实时移动轨迹"
   ],
   "metadata": {
    "collapsed": false,
    "pycharm": {
     "name": "#%% md\n"
    }
   }
  }
 ],
 "metadata": {
  "kernelspec": {
   "display_name": "Python 3",
   "language": "python",
   "name": "python3"
  },
  "language_info": {
   "codemirror_mode": {
    "name": "ipython",
    "version": 2
   },
   "file_extension": ".py",
   "mimetype": "text/x-python",
   "name": "python",
   "nbconvert_exporter": "python",
   "pygments_lexer": "ipython2",
   "version": "2.7.6"
  }
 },
 "nbformat": 4,
 "nbformat_minor": 0
}