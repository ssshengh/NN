{
 "cells": [
  {
   "cell_type": "code",
   "execution_count": 1,
   "metadata": {
    "collapsed": true
   },
   "outputs": [],
   "source": [
    "import numpy as np\n",
    "import pandas as pd\n",
    "import torch\n",
    "from torch.autograd import Variable\n",
    "import torch.optim as optim\n",
    "import matplotlib.pyplot as plt"
   ]
  },
  {
   "cell_type": "code",
   "execution_count": 3,
   "outputs": [
    {
     "data": {
      "text/plain": "        dertapx    dertapy   dertavx   dertavy  ifattacker\n0     -3.379384  27.284398 -1.064839 -0.059889         0.0\n1      0.017489  30.049128 -0.000103 -0.177598         0.0\n2     -3.713618  29.990191 -0.002124  0.017156         0.0\n3      0.017598  30.235227  0.000012  0.019932         0.0\n4      4.800375 -31.360075 -0.572702 -0.062129         0.0\n...         ...        ...       ...       ...         ...\n25441  0.029102 -29.995521  0.000030 -0.031303         0.0\n25442  2.933814 -35.814130  0.001228 -0.014995         0.0\n25443  3.638251 -31.525057  0.005000 -0.043325         0.0\n25444 -7.695923  62.150237  0.003165 -0.025563         0.0\n25445 -0.376771  32.102142 -1.397219  0.037454         0.0\n\n[25445 rows x 5 columns]",
      "text/html": "<div>\n<style scoped>\n    .dataframe tbody tr th:only-of-type {\n        vertical-align: middle;\n    }\n\n    .dataframe tbody tr th {\n        vertical-align: top;\n    }\n\n    .dataframe thead th {\n        text-align: right;\n    }\n</style>\n<table border=\"1\" class=\"dataframe\">\n  <thead>\n    <tr style=\"text-align: right;\">\n      <th></th>\n      <th>dertapx</th>\n      <th>dertapy</th>\n      <th>dertavx</th>\n      <th>dertavy</th>\n      <th>ifattacker</th>\n    </tr>\n  </thead>\n  <tbody>\n    <tr>\n      <th>0</th>\n      <td>-3.379384</td>\n      <td>27.284398</td>\n      <td>-1.064839</td>\n      <td>-0.059889</td>\n      <td>0.0</td>\n    </tr>\n    <tr>\n      <th>1</th>\n      <td>0.017489</td>\n      <td>30.049128</td>\n      <td>-0.000103</td>\n      <td>-0.177598</td>\n      <td>0.0</td>\n    </tr>\n    <tr>\n      <th>2</th>\n      <td>-3.713618</td>\n      <td>29.990191</td>\n      <td>-0.002124</td>\n      <td>0.017156</td>\n      <td>0.0</td>\n    </tr>\n    <tr>\n      <th>3</th>\n      <td>0.017598</td>\n      <td>30.235227</td>\n      <td>0.000012</td>\n      <td>0.019932</td>\n      <td>0.0</td>\n    </tr>\n    <tr>\n      <th>4</th>\n      <td>4.800375</td>\n      <td>-31.360075</td>\n      <td>-0.572702</td>\n      <td>-0.062129</td>\n      <td>0.0</td>\n    </tr>\n    <tr>\n      <th>...</th>\n      <td>...</td>\n      <td>...</td>\n      <td>...</td>\n      <td>...</td>\n      <td>...</td>\n    </tr>\n    <tr>\n      <th>25441</th>\n      <td>0.029102</td>\n      <td>-29.995521</td>\n      <td>0.000030</td>\n      <td>-0.031303</td>\n      <td>0.0</td>\n    </tr>\n    <tr>\n      <th>25442</th>\n      <td>2.933814</td>\n      <td>-35.814130</td>\n      <td>0.001228</td>\n      <td>-0.014995</td>\n      <td>0.0</td>\n    </tr>\n    <tr>\n      <th>25443</th>\n      <td>3.638251</td>\n      <td>-31.525057</td>\n      <td>0.005000</td>\n      <td>-0.043325</td>\n      <td>0.0</td>\n    </tr>\n    <tr>\n      <th>25444</th>\n      <td>-7.695923</td>\n      <td>62.150237</td>\n      <td>0.003165</td>\n      <td>-0.025563</td>\n      <td>0.0</td>\n    </tr>\n    <tr>\n      <th>25445</th>\n      <td>-0.376771</td>\n      <td>32.102142</td>\n      <td>-1.397219</td>\n      <td>0.037454</td>\n      <td>0.0</td>\n    </tr>\n  </tbody>\n</table>\n<p>25445 rows × 5 columns</p>\n</div>"
     },
     "execution_count": 3,
     "metadata": {},
     "output_type": "execute_result"
    }
   ],
   "source": [
    "data_path = '/Users/shenheng/Code/NN/Lab/data/lulu.csv'\n",
    "data = pd.read_csv(data_path)\n",
    "data.columns=['dertapx','dertapy','dertavx','dertavy','ifattacker']\n",
    "data = data.sample(frac=1).reset_index(drop=True)# 数据扰乱\n",
    "data = data.dropna(axis=0, how='any')\n",
    "\"\"\"\n",
    "df.dropna(axis=0,how='all')#删除表中全部为NaN的行\n",
    "df.dropna(axis=0,how='any') #删除表中含有任何NaN的行\n",
    "df.dropna(axis=1,how='all') #删除表中全部为NaN的列\n",
    "\"\"\"\n",
    "data"
   ],
   "metadata": {
    "collapsed": false,
    "pycharm": {
     "name": "#%%\n"
    }
   }
  },
  {
   "cell_type": "code",
   "execution_count": 3,
   "outputs": [
    {
     "data": {
      "text/plain": "              0         1         2         3\n0      0.002383  0.042266 -0.683857 -0.737925\n1      0.000647  0.041408 -0.941874  0.184883\n2      0.009707 -0.107143 -1.400020  0.465754\n3     -0.002132  0.044187  0.545939  0.265781\n4      0.000703 -0.060047 -1.517399 -0.225497\n...         ...       ...       ...       ...\n25440 -0.006409  0.093792 -1.272397 -0.300317\n25441 -0.002133  0.044199  0.557402 -0.041092\n25442  0.002707  0.054129 -0.967982  0.133649\n25443  0.000664 -0.061099  0.553605 -0.055560\n25444  0.004463 -0.056303  0.534936  0.425613\n\n[25445 rows x 4 columns]",
      "text/html": "<div>\n<style scoped>\n    .dataframe tbody tr th:only-of-type {\n        vertical-align: middle;\n    }\n\n    .dataframe tbody tr th {\n        vertical-align: top;\n    }\n\n    .dataframe thead th {\n        text-align: right;\n    }\n</style>\n<table border=\"1\" class=\"dataframe\">\n  <thead>\n    <tr style=\"text-align: right;\">\n      <th></th>\n      <th>0</th>\n      <th>1</th>\n      <th>2</th>\n      <th>3</th>\n    </tr>\n  </thead>\n  <tbody>\n    <tr>\n      <th>0</th>\n      <td>0.002383</td>\n      <td>0.042266</td>\n      <td>-0.683857</td>\n      <td>-0.737925</td>\n    </tr>\n    <tr>\n      <th>1</th>\n      <td>0.000647</td>\n      <td>0.041408</td>\n      <td>-0.941874</td>\n      <td>0.184883</td>\n    </tr>\n    <tr>\n      <th>2</th>\n      <td>0.009707</td>\n      <td>-0.107143</td>\n      <td>-1.400020</td>\n      <td>0.465754</td>\n    </tr>\n    <tr>\n      <th>3</th>\n      <td>-0.002132</td>\n      <td>0.044187</td>\n      <td>0.545939</td>\n      <td>0.265781</td>\n    </tr>\n    <tr>\n      <th>4</th>\n      <td>0.000703</td>\n      <td>-0.060047</td>\n      <td>-1.517399</td>\n      <td>-0.225497</td>\n    </tr>\n    <tr>\n      <th>...</th>\n      <td>...</td>\n      <td>...</td>\n      <td>...</td>\n      <td>...</td>\n    </tr>\n    <tr>\n      <th>25440</th>\n      <td>-0.006409</td>\n      <td>0.093792</td>\n      <td>-1.272397</td>\n      <td>-0.300317</td>\n    </tr>\n    <tr>\n      <th>25441</th>\n      <td>-0.002133</td>\n      <td>0.044199</td>\n      <td>0.557402</td>\n      <td>-0.041092</td>\n    </tr>\n    <tr>\n      <th>25442</th>\n      <td>0.002707</td>\n      <td>0.054129</td>\n      <td>-0.967982</td>\n      <td>0.133649</td>\n    </tr>\n    <tr>\n      <th>25443</th>\n      <td>0.000664</td>\n      <td>-0.061099</td>\n      <td>0.553605</td>\n      <td>-0.055560</td>\n    </tr>\n    <tr>\n      <th>25444</th>\n      <td>0.004463</td>\n      <td>-0.056303</td>\n      <td>0.534936</td>\n      <td>0.425613</td>\n    </tr>\n  </tbody>\n</table>\n<p>25445 rows × 4 columns</p>\n</div>"
     },
     "execution_count": 3,
     "metadata": {},
     "output_type": "execute_result"
    }
   ],
   "source": [
    "from sklearn.preprocessing import StandardScaler # 通过减去均值并除以单位方差来标准化数据\n",
    "# 数据归一化\n",
    "scaler = StandardScaler() # fit求均值方差，transform求归一化数据\n",
    "target_all = data['ifattacker'].to_numpy()\n",
    "data_all = data.drop(['ifattacker'], axis=1)\n",
    "data_all = scaler.fit_transform(data_all)\n",
    "data_all = pd.DataFrame(data_all)\n",
    "data_all"
   ],
   "metadata": {
    "collapsed": false,
    "pycharm": {
     "name": "#%%\n"
    }
   }
  },
  {
   "cell_type": "code",
   "execution_count": 4,
   "outputs": [
    {
     "name": "stdout",
     "output_type": "stream",
     "text": [
      "[0. 1.]\n"
     ]
    }
   ],
   "source": [
    "print(np.unique(target_all))"
   ],
   "metadata": {
    "collapsed": false,
    "pycharm": {
     "name": "#%% 扰乱数据\n"
    }
   }
  },
  {
   "cell_type": "code",
   "execution_count": 14,
   "outputs": [],
   "source": [
    "test_size = int(len(data_all)//10) #10/1的测试集\n",
    "# 训练集\n",
    "train_data = data_all[2*test_size : ]\n",
    "train_label = target_all[2*test_size : ]\n",
    "\n",
    "test_data = data_all[test_size : 2*test_size]\n",
    "test_label = target_all[test_size : 2*test_size]\n",
    "\n",
    "valid_data = data_all[: test_size]\n",
    "valid_label = target_all[: test_size]\n",
    "\n",
    "features = train_data\n",
    "target = train_label\n",
    "test_features = test_data\n",
    "test_target = test_label"
   ],
   "metadata": {
    "collapsed": false,
    "pycharm": {
     "name": "#%% 数据集划分\n"
    }
   }
  },
  {
   "cell_type": "code",
   "execution_count": 6,
   "outputs": [],
   "source": [
    "X = features.values\n",
    "Y = target\n",
    "Y = Y.astype(int)\n",
    "Y = np.reshape(Y, [len(Y), 1])\n",
    "\n",
    "input_size = 4\n",
    "hidden_size = 10\n",
    "output_size = 2\n",
    "batch_size = 100\n",
    "neu = torch.nn.Sequential(\n",
    "    torch.nn.Linear(input_size, hidden_size),\n",
    "    torch.nn.ReLU(),\n",
    "    torch.nn.Linear(hidden_size, output_size),\n",
    "    torch.nn.LogSoftmax(dim=1)\n",
    ")\n",
    "cost = torch.nn.NLLLoss() #损失函数\n",
    "optimizer = torch.optim.SGD(neu.parameters(), lr=0.001) #优化算法\n",
    "\n",
    "def rightness(predictions, labels):\n",
    "    \"\"\"计算预测错误率的函数，其中predictions是模型给出的一组预测结果，batch_size(数据量)行num_classes列的矩阵，labels是数据之中的正确答案\"\"\"\n",
    "    pred = torch.max(predictions.data, 1)[1]  # 对于任意一行（一个样本）的输出值的第1个维度，求最大，得到每一行的最大元素的下标\n",
    "    # 比如三维张量，第一个是z，第二个是行第三个是列。出来的是一个两列的矩阵，第一列是纬度上的最值，第二列是维度上的位置\n",
    "    rights = pred.eq(labels.data.view_as(pred)).sum()  # 将下标与labels中包含的类别进行比较，并累计得到比较正确的数量\n",
    "    #  view_as(tensor)返回被视作与给定的tensor相同大小的原tensor。\n",
    "    return rights, len(labels)  # 返回正确的数量和这一次一共比较了多少元素›"
   ],
   "metadata": {
    "collapsed": false,
    "pycharm": {
     "name": "#%%\n"
    }
   }
  },
  {
   "cell_type": "code",
   "execution_count": 7,
   "outputs": [
    {
     "name": "stdout",
     "output_type": "stream",
     "text": [
      "第0轮——损失为交叉熵均值：训练损失：0.80, 校验损失：0.80, 校验准确率: 0.04\n",
      "第0轮——损失为交叉熵均值：训练损失：0.35, 校验损失：0.22, 校验准确率: 0.96\n",
      "第0轮——损失为交叉熵均值：训练损失：0.27, 校验损失：0.19, 校验准确率: 0.96\n",
      "第0轮——损失为交叉熵均值：训练损失：0.24, 校验损失：0.18, 校验准确率: 0.96\n",
      "第0轮——损失为交叉熵均值：训练损失：0.23, 校验损失：0.18, 校验准确率: 0.96\n",
      "第0轮——损失为交叉熵均值：训练损失：0.22, 校验损失：0.18, 校验准确率: 0.96\n",
      "第0轮——损失为交叉熵均值：训练损失：0.22, 校验损失：0.18, 校验准确率: 0.96\n",
      "第1轮——损失为交叉熵均值：训练损失：0.22, 校验损失：0.18, 校验准确率: 0.96\n",
      "第1轮——损失为交叉熵均值：训练损失：0.21, 校验损失：0.18, 校验准确率: 0.96\n",
      "第1轮——损失为交叉熵均值：训练损失：0.21, 校验损失：0.18, 校验准确率: 0.96\n",
      "第1轮——损失为交叉熵均值：训练损失：0.20, 校验损失：0.18, 校验准确率: 0.96\n",
      "第1轮——损失为交叉熵均值：训练损失：0.20, 校验损失：0.18, 校验准确率: 0.96\n",
      "第1轮——损失为交叉熵均值：训练损失：0.20, 校验损失：0.18, 校验准确率: 0.96\n",
      "第1轮——损失为交叉熵均值：训练损失：0.20, 校验损失：0.18, 校验准确率: 0.96\n",
      "第2轮——损失为交叉熵均值：训练损失：0.20, 校验损失：0.18, 校验准确率: 0.96\n",
      "第2轮——损失为交叉熵均值：训练损失：0.20, 校验损失：0.18, 校验准确率: 0.96\n",
      "第2轮——损失为交叉熵均值：训练损失：0.20, 校验损失：0.18, 校验准确率: 0.96\n",
      "第2轮——损失为交叉熵均值：训练损失：0.19, 校验损失：0.18, 校验准确率: 0.96\n",
      "第2轮——损失为交叉熵均值：训练损失：0.19, 校验损失：0.18, 校验准确率: 0.96\n",
      "第2轮——损失为交叉熵均值：训练损失：0.19, 校验损失：0.18, 校验准确率: 0.96\n",
      "第2轮——损失为交叉熵均值：训练损失：0.19, 校验损失：0.18, 校验准确率: 0.96\n",
      "第3轮——损失为交叉熵均值：训练损失：0.19, 校验损失：0.18, 校验准确率: 0.96\n",
      "第3轮——损失为交叉熵均值：训练损失：0.19, 校验损失：0.18, 校验准确率: 0.96\n",
      "第3轮——损失为交叉熵均值：训练损失：0.19, 校验损失：0.18, 校验准确率: 0.96\n",
      "第3轮——损失为交叉熵均值：训练损失：0.19, 校验损失：0.18, 校验准确率: 0.96\n",
      "第3轮——损失为交叉熵均值：训练损失：0.19, 校验损失：0.18, 校验准确率: 0.96\n",
      "第3轮——损失为交叉熵均值：训练损失：0.19, 校验损失：0.18, 校验准确率: 0.96\n",
      "第3轮——损失为交叉熵均值：训练损失：0.19, 校验损失：0.18, 校验准确率: 0.96\n",
      "第4轮——损失为交叉熵均值：训练损失：0.19, 校验损失：0.18, 校验准确率: 0.96\n",
      "第4轮——损失为交叉熵均值：训练损失：0.19, 校验损失：0.18, 校验准确率: 0.96\n",
      "第4轮——损失为交叉熵均值：训练损失：0.19, 校验损失：0.18, 校验准确率: 0.96\n",
      "第4轮——损失为交叉熵均值：训练损失：0.19, 校验损失：0.18, 校验准确率: 0.96\n",
      "第4轮——损失为交叉熵均值：训练损失：0.19, 校验损失：0.18, 校验准确率: 0.96\n",
      "第4轮——损失为交叉熵均值：训练损失：0.19, 校验损失：0.18, 校验准确率: 0.96\n",
      "第4轮——损失为交叉熵均值：训练损失：0.19, 校验损失：0.18, 校验准确率: 0.96\n",
      "第5轮——损失为交叉熵均值：训练损失：0.19, 校验损失：0.18, 校验准确率: 0.96\n",
      "第5轮——损失为交叉熵均值：训练损失：0.19, 校验损失：0.18, 校验准确率: 0.96\n",
      "第5轮——损失为交叉熵均值：训练损失：0.19, 校验损失：0.18, 校验准确率: 0.96\n",
      "第5轮——损失为交叉熵均值：训练损失：0.19, 校验损失：0.18, 校验准确率: 0.96\n",
      "第5轮——损失为交叉熵均值：训练损失：0.19, 校验损失：0.18, 校验准确率: 0.96\n",
      "第5轮——损失为交叉熵均值：训练损失：0.19, 校验损失：0.18, 校验准确率: 0.96\n",
      "第5轮——损失为交叉熵均值：训练损失：0.19, 校验损失：0.18, 校验准确率: 0.96\n",
      "第6轮——损失为交叉熵均值：训练损失：0.19, 校验损失：0.18, 校验准确率: 0.96\n",
      "第6轮——损失为交叉熵均值：训练损失：0.19, 校验损失：0.18, 校验准确率: 0.96\n",
      "第6轮——损失为交叉熵均值：训练损失：0.19, 校验损失：0.18, 校验准确率: 0.96\n",
      "第6轮——损失为交叉熵均值：训练损失：0.19, 校验损失：0.18, 校验准确率: 0.96\n",
      "第6轮——损失为交叉熵均值：训练损失：0.19, 校验损失：0.18, 校验准确率: 0.96\n",
      "第6轮——损失为交叉熵均值：训练损失：0.19, 校验损失：0.18, 校验准确率: 0.96\n",
      "第6轮——损失为交叉熵均值：训练损失：0.19, 校验损失：0.18, 校验准确率: 0.96\n",
      "第7轮——损失为交叉熵均值：训练损失：0.19, 校验损失：0.18, 校验准确率: 0.96\n",
      "第7轮——损失为交叉熵均值：训练损失：0.19, 校验损失：0.18, 校验准确率: 0.96\n",
      "第7轮——损失为交叉熵均值：训练损失：0.18, 校验损失：0.18, 校验准确率: 0.96\n",
      "第7轮——损失为交叉熵均值：训练损失：0.18, 校验损失：0.18, 校验准确率: 0.96\n",
      "第7轮——损失为交叉熵均值：训练损失：0.18, 校验损失：0.18, 校验准确率: 0.96\n",
      "第7轮——损失为交叉熵均值：训练损失：0.18, 校验损失：0.18, 校验准确率: 0.96\n",
      "第7轮——损失为交叉熵均值：训练损失：0.18, 校验损失：0.18, 校验准确率: 0.96\n",
      "第8轮——损失为交叉熵均值：训练损失：0.18, 校验损失：0.18, 校验准确率: 0.96\n",
      "第8轮——损失为交叉熵均值：训练损失：0.18, 校验损失：0.18, 校验准确率: 0.96\n",
      "第8轮——损失为交叉熵均值：训练损失：0.18, 校验损失：0.18, 校验准确率: 0.96\n",
      "第8轮——损失为交叉熵均值：训练损失：0.18, 校验损失：0.18, 校验准确率: 0.96\n",
      "第8轮——损失为交叉熵均值：训练损失：0.18, 校验损失：0.18, 校验准确率: 0.96\n",
      "第8轮——损失为交叉熵均值：训练损失：0.18, 校验损失：0.18, 校验准确率: 0.96\n",
      "第8轮——损失为交叉熵均值：训练损失：0.18, 校验损失：0.18, 校验准确率: 0.96\n",
      "第9轮——损失为交叉熵均值：训练损失：0.18, 校验损失：0.18, 校验准确率: 0.96\n",
      "第9轮——损失为交叉熵均值：训练损失：0.18, 校验损失：0.18, 校验准确率: 0.96\n",
      "第9轮——损失为交叉熵均值：训练损失：0.18, 校验损失：0.18, 校验准确率: 0.96\n",
      "第9轮——损失为交叉熵均值：训练损失：0.18, 校验损失：0.18, 校验准确率: 0.96\n",
      "第9轮——损失为交叉熵均值：训练损失：0.18, 校验损失：0.18, 校验准确率: 0.96\n",
      "第9轮——损失为交叉熵均值：训练损失：0.18, 校验损失：0.18, 校验准确率: 0.96\n",
      "第9轮——损失为交叉熵均值：训练损失：0.18, 校验损失：0.18, 校验准确率: 0.96\n"
     ]
    }
   ],
   "source": [
    "losses = []\n",
    "records = []\n",
    "epoch_size = 10 # 十个epoch\n",
    "a = zip(train_data.values, train_label)\n",
    "for epoch in range(epoch_size):\n",
    "    # print(str(epoch) + \"次：\")\n",
    "    for i, data in enumerate(zip(train_data.values, train_label)):\n",
    "        x, y = data  #x为特征，y为标签\n",
    "        x = torch.tensor(x, requires_grad=True, dtype=torch.float).view(1, -1) #重新构造形状，1行，-1列指从行来判断\n",
    "        y = torch.tensor(np.array([y]), dtype=torch.long)\n",
    "        # 清空梯度\n",
    "        optimizer.zero_grad()\n",
    "        # 模型预测\n",
    "        predict = neu(x)\n",
    "        # 计算损失函数\n",
    "        loss = cost(predict, y)\n",
    "        # 将损失函数数值加入到列表中\n",
    "        losses.append(loss.data.numpy())\n",
    "        # 开始进行梯度反传\n",
    "        loss.backward()\n",
    "        # 开始对参数进行一步优化\n",
    "        optimizer.step()\n",
    "\n",
    "        if i % 3000 == 0:\n",
    "            val_losses = []\n",
    "            rights = []\n",
    "            # 在所有校验数据集上实验\n",
    "            # dataframe必须要取出values才能得到正确结果，不然的话得到的就是列数\n",
    "            for j, val in enumerate(zip(valid_data.values, valid_label)):\n",
    "                x, y = val\n",
    "                x = torch.tensor(x, requires_grad=True, dtype=torch.float).view(1, -1)\n",
    "                y = torch.tensor(np.array([y]), dtype=torch.long)\n",
    "                predict = neu(x)\n",
    "                # 调用rightness函数计算准确度,对一个数据进行比较，正确得到1，错误得到0\n",
    "                # 只输出一个的话，第一个为代表是否正确的0，1；第二个为代表比较了几个的1\n",
    "                right = rightness(predict, y)\n",
    "                rights.append(right) # rights里面是一个0101的数组，对应于校验集上数据的正确性\n",
    "                loss1 = cost(predict, y)\n",
    "                val_losses.append(loss1.data.numpy())\n",
    "            # 因此可以计算校验集上的正确率\n",
    "            right_ratio = 1.0 * np.sum([i[0] for i in rights]) / np.sum([i[1] for i in rights])\n",
    "            # 注意校验损失和训练损失为其中的均值\n",
    "            print('第{}轮——损失为交叉熵均值：训练损失：{:.2f}, 校验损失：{:.2f}, 校验准确率: {:.2f}'.format(epoch, np.mean(losses),\n",
    "                                                                            np.mean(val_losses), right_ratio))\n",
    "            records.append([np.mean(losses), np.mean(val_losses), right_ratio])  #记录下三者"
   ],
   "metadata": {
    "collapsed": false,
    "pycharm": {
     "name": "#%% 这一部分先不看\n"
    }
   }
  },
  {
   "cell_type": "code",
   "execution_count": 8,
   "outputs": [
    {
     "data": {
      "text/plain": "<Figure size 432x288 with 1 Axes>",
      "image/png": "[encoded data removed]"
     },
     "metadata": {
      "needs_background": "light"
     },
     "output_type": "display_data"
    }
   ],
   "source": [
    "# %%\n",
    "# 绘制误差曲线\n",
    "a = [i[0] for i in records]\n",
    "b = [i[1] for i in records]\n",
    "c = [i[2] for i in records]\n",
    "plt.plot(a, label='Train Loss')\n",
    "plt.plot(b, label='Valid Loss')\n",
    "plt.plot(c, label='Valid Accuracy')\n",
    "plt.xlabel('Steps')\n",
    "plt.ylabel('Loss & Accuracy')\n",
    "\n",
    "plt.legend()\n",
    "plt.title('Loss')\n",
    "plt.savefig('Loss_NLP.png', dpi=72)\n",
    "plt.show()"
   ],
   "metadata": {
    "collapsed": false,
    "pycharm": {
     "name": "#%%\n"
    }
   }
  },
  {
   "cell_type": "code",
   "execution_count": 15,
   "outputs": [
    {
     "name": "stdout",
     "output_type": "stream",
     "text": [
      "测试集正确率为：0.9555817610062893\n"
     ]
    }
   ],
   "source": [
    "# 在测试集上分批运行，并计算总的正确率\n",
    "vals = []  # 记录准确率所用列表\n",
    "\n",
    "# 对测试数据集进行循环\n",
    "for data, target in zip(test_data.values, test_label):\n",
    "    data, target = torch.tensor(data, dtype=torch.float).view(1, -1), torch.tensor(np.array([target]), dtype=torch.long)\n",
    "    output = neu(data)  # 将特征数据喂入网络，得到分类的输出\n",
    "    val = rightness(output, target)  # 获得正确样本数以及总样本数\n",
    "    vals.append(val)  # 记录结果\n",
    "\n",
    "# 计算准确率\n",
    "rights = (sum([tup[0] for tup in vals]), sum([tup[1] for tup in vals]))\n",
    "right_rate = 1.0 * rights[0].data.numpy() / rights[1]\n",
    "print(\"测试集正确率为：\" + str(right_rate))"
   ],
   "metadata": {
    "collapsed": false,
    "pycharm": {
     "name": "#%%\n"
    }
   }
  },
  {
   "cell_type": "code",
   "execution_count": 4,
   "outputs": [
    {
     "name": "stdout",
     "output_type": "stream",
     "text": [
      "/Users/shenheng/Code/NN/Lab\n",
      "/Users/shenheng/Code/NN\n",
      "/Users/shenheng/anaconda3/envs/Py/lib/python37.zip\n",
      "/Users/shenheng/anaconda3/envs/Py/lib/python3.7\n",
      "/Users/shenheng/anaconda3/envs/Py/lib/python3.7/lib-dynload\n",
      "\n",
      "/Users/shenheng/anaconda3/envs/Py/lib/python3.7/site-packages\n",
      "/Users/shenheng/anaconda3/envs/Py/lib/python3.7/site-packages/IPython/extensions\n",
      "/Users/shenheng/.ipython\n",
      "/Applications/PyCharm.app/Contents/plugins/python/helpers/pydev\n",
      "/Applications/PyCharm.app/Contents/plugins/python/helpers-pro/jupyter_debug\n"
     ]
    }
   ],
   "source": [
    "import sys\n",
    "a =  sys.path\n",
    "for i in range(len(a)):\n",
    "    print(a[i])\n",
    "#print(sys.path)"
   ],
   "metadata": {
    "collapsed": false,
    "pycharm": {
     "name": "#%%\n"
    }
   }
  },
  {
   "cell_type": "code",
   "execution_count": null,
   "outputs": [],
   "source": [],
   "metadata": {
    "collapsed": false,
    "pycharm": {
     "name": "#%%\n"
    }
   }
  }
 ],
 "metadata": {
  "kernelspec": {
   "display_name": "Python 3",
   "language": "python",
   "name": "python3"
  },
  "language_info": {
   "codemirror_mode": {
    "name": "ipython",
    "version": 2
   },
   "file_extension": ".py",
   "mimetype": "text/x-python",
   "name": "python",
   "nbconvert_exporter": "python",
   "pygments_lexer": "ipython2",
   "version": "2.7.6"
  }
 },
 "nbformat": 4,
 "nbformat_minor": 0
}