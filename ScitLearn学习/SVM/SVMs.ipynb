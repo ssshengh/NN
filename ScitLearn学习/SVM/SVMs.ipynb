{
 "cells": [
  {
   "cell_type": "markdown",
   "metadata": {
    "collapsed": true,
    "pycharm": {
     "name": "#%% md\n"
    }
   },
   "source": [
    "支持向量机\n",
    "用途：分类、回归、离群值检测\n",
    "优点：高维空间十分有效、纬度大于样本数仍然有效、在决策函数（称为支持向量）中使用训练集的子集，因此它能提高内存利用率。\n",
    "多用途：可以为决策函数指定不同的内核函数。提供了通用内核，但也可以指定自定义内核。\n",
    "\n",
    "缺点：如果特征数远大于样本数，则在选择核函数时要避免过拟合，正则化项至关重要\n",
    "    支持向量机不直接提供概率估计，而是使用高代价的五重交叉验证来计算（请参阅下面的评估和概率)。\n",
    "\n",
    "\n",
    "scikit-learn中的支持向量机支持密集（numpy.ndarray，可以通过numpy.asarray进行转换）和稀疏（任何scipy.sparse）样本向量作为输入。\n",
    "但是，要使用SVM对稀疏数据进行预测，它需要先拟合此类数据。\n",
    "为了获得最佳性能，请使用行优先存储(C-order)的numpy.ndarray（密集）或带有数据类型为float64的scipy.sparse.csr_matrix（稀疏）。"
   ]
  },
  {
   "cell_type": "markdown",
   "source": [
    "支持向量机用于分类：\n",
    "SVC,NuSVC andLinearSVC 是能够对数据集进行多元分类。\n",
    "\n",
    "SVC andNuSVC 是相似的方法，但接受的参数集略有不同，并且有不同的数学公式（请参见数学公式）。\n",
    "另一方面, LinearSVC 是线性核函数的支持向量分类的另一个实现。\n",
    "注意，LinearSVC不接受关键字kernel，因为这是被假定为线性化了的，同时它还缺少一些SVC 和NuSVC的成员， 如support_。\n",
    "与其他分类器一样， SVC, NuSVC andLinearSVC 采用两个数组作为输入：一个是大小为[n_samples，n_features]的数组X作为训练样本，一个是大小为[n_samples] 的数组y作为类标签（字符串或整数）：\n"
   ],
   "metadata": {
    "collapsed": false,
    "pycharm": {
     "name": "#%% md\n"
    }
   }
  },
  {
   "cell_type": "code",
   "execution_count": 2,
   "outputs": [
    {
     "data": {
      "text/plain": "SVC(C=1.0, break_ties=False, cache_size=200, class_weight=None, coef0=0.0,\n    decision_function_shape='ovr', degree=3, gamma='scale', kernel='rbf',\n    max_iter=-1, probability=False, random_state=None, shrinking=True,\n    tol=0.001, verbose=False)"
     },
     "execution_count": 2,
     "metadata": {},
     "output_type": "execute_result"
    }
   ],
   "source": [
    "# 支持向量机的接受的数据的形式：T = {(x1, y1), (x2, y2)...}x1为高维向量，y为标签\n",
    "# 核函数思路：将输入数据(欧式空间或者离散空间)映射到特征空间(希尔伯特空间H)，然后原本的分离超曲面变成分离超平面\n",
    "from sklearn import svm\n",
    "X = [[0,0], [1,1]]\n",
    "Y = [0,1]\n",
    "clf = svm.SVC()\n",
    "clf.fit(X,Y)"
   ],
   "metadata": {
    "collapsed": false,
    "pycharm": {
     "name": "#%%\n"
    }
   }
  },
  {
   "cell_type": "code",
   "execution_count": 5,
   "outputs": [
    {
     "data": {
      "text/plain": "array([1])"
     },
     "execution_count": 5,
     "metadata": {},
     "output_type": "execute_result"
    }
   ],
   "source": [
    "clf.predict([[1.5, 2]])\n"
   ],
   "metadata": {
    "collapsed": false,
    "pycharm": {
     "name": "#%%\n"
    }
   }
  },
  {
   "cell_type": "markdown",
   "source": [
    "多元分类法：一个一个分类\n",
    "\n",
    "SVC 和 NuSVC 为多元分类实现了 “one-against-one” 的方法 (Knerr et al., 1990) 如果 n_class 是类别的数量, 那么 n_class * (n_class - 1) / 2 分类器被重构, 而且每一个从两个类别中训练数据. 为了提供与其他分类器一致的接口, decision_function_shape 选项允许聚合 “one-against-one” 分类器的结果成 (n_samples, n_classes) 的大小到决策函数:\n",
    "\n"
   ],
   "metadata": {
    "collapsed": false,
    "pycharm": {
     "name": "#%% md\n"
    }
   }
  }
 ],
 "metadata": {
  "kernelspec": {
   "display_name": "Python 3",
   "language": "python",
   "name": "python3"
  },
  "language_info": {
   "codemirror_mode": {
    "name": "ipython",
    "version": 2
   },
   "file_extension": ".py",
   "mimetype": "text/x-python",
   "name": "python",
   "nbconvert_exporter": "python",
   "pygments_lexer": "ipython2",
   "version": "2.7.6"
  }
 },
 "nbformat": 4,
 "nbformat_minor": 0
}